{
 "cells": [
  {
   "cell_type": "code",
   "execution_count": null,
   "metadata": {
    "collapsed": true,
    "pycharm": {
     "name": "#%%\n"
    }
   },
   "outputs": [],
   "source": [
    "import numpy as np\n",
    "\n",
    "EPSILON = 1e-10\n",
    "np.set_printoptions(precision=3, suppress=True)\n",
    "\n",
    "\n",
    "\"\"\"\n",
    "Taken from https://gist.github.com/bshishov/5dc237f59f019b26145648e2124ca1c9\n",
    "github user Boris Shishov bshishov\n",
    "Took since I find this to be really useful code for this project and others\n",
    "\n",
    "\"\"\"\n",
    "\n",
    "\n",
    "def _percentage_error(actual: np.ndarray, predicted: np.ndarray):\n",
    "    \"\"\"\n",
    "    Percentage error\n",
    "    Note: result is NOT multiplied by 100\n",
    "    \"\"\"\n",
    "    return _error(actual, predicted) / (actual + EPSILON)\n",
    "\n",
    "\n",
    "def _error(actual: np.ndarray, predicted: np.ndarray):\n",
    "    \"\"\" Simple error \"\"\"\n",
    "    return actual - predicted\n",
    "\n",
    "\n",
    "def mae(actual: np.ndarray, predicted: np.ndarray):\n",
    "    \"\"\" Mean Absolute Error \"\"\"\n",
    "    return np.mean(np.abs(_error(actual, predicted)))\n",
    "\n",
    "\n",
    "def _naive_forecasting(actual: np.ndarray, seasonality: int = 1):\n",
    "    \"\"\" Naive forecasting method which just repeats previous samples \"\"\"\n",
    "    return actual[:-seasonality]\n",
    "\n",
    "\n",
    "def mase(actual: np.ndarray, predicted: np.ndarray, seasonality: int = 1):\n",
    "    \"\"\"\n",
    "    Mean Absolute Scaled Error\n",
    "    Baseline (benchmark) is computed with naive forecasting (shifted by @seasonality)\n",
    "    \"\"\"\n",
    "    return mae(actual, predicted) / mae(actual[seasonality:], _naive_forecasting(actual, seasonality))"
   ]
  }
 ],
 "metadata": {
  "kernelspec": {
   "display_name": "Python 3",
   "language": "python",
   "name": "python3"
  },
  "language_info": {
   "codemirror_mode": {
    "name": "ipython",
    "version": 2
   },
   "file_extension": ".py",
   "mimetype": "text/x-python",
   "name": "python",
   "nbconvert_exporter": "python",
   "pygments_lexer": "ipython2",
   "version": "2.7.6"
  }
 },
 "nbformat": 4,
 "nbformat_minor": 0
}